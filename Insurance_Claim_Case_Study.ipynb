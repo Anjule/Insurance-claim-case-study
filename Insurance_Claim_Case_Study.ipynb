{
 "cells": [
  {
   "cell_type": "code",
   "execution_count": 1,
   "metadata": {},
   "outputs": [],
   "source": [
    "import pandas as pd\n",
    "import numpy as np\n",
    "import matplotlib.pyplot as plt\n",
    "import seaborn as sns\n",
    "import datetime \n",
    "import scipy.stats as stats\n",
    "\n",
    "%matplotlib inline\n"
   ]
  },
  {
   "cell_type": "markdown",
   "metadata": {},
   "source": [
    "###  1.Import claims_data.csv and cust_data.csv which is provided to you and combine the two datasets appropriately to create a 360-degree view of the data. Use the same for the subsequent questions."
   ]
  },
  {
   "cell_type": "code",
   "execution_count": null,
   "metadata": {},
   "outputs": [],
   "source": [
    "cust=pd.read_csv(\"C:/Users/ACER/Desktop/Analytixlabs/Python/Manuj_Sir_python/Assignment/5. Pandas Case Study 3 - Insurance Claims Case Study/cust_demographics.csv\")\n",
    "claim=pd.read_csv(\"C:/Users/ACER/Desktop/Analytixlabs/Python/Manuj_Sir_python/Assignment/5. Pandas Case Study 3 - Insurance Claims Case Study/claims.csv\")"
   ]
  },
  {
   "cell_type": "code",
   "execution_count": 3,
   "metadata": {
    "scrolled": false
   },
   "outputs": [
    {
     "data": {
      "text/html": [
       "<div>\n",
       "<style scoped>\n",
       "    .dataframe tbody tr th:only-of-type {\n",
       "        vertical-align: middle;\n",
       "    }\n",
       "\n",
       "    .dataframe tbody tr th {\n",
       "        vertical-align: top;\n",
       "    }\n",
       "\n",
       "    .dataframe thead th {\n",
       "        text-align: right;\n",
       "    }\n",
       "</style>\n",
       "<table border=\"1\" class=\"dataframe\">\n",
       "  <thead>\n",
       "    <tr style=\"text-align: right;\">\n",
       "      <th></th>\n",
       "      <th>CUST_ID</th>\n",
       "      <th>gender</th>\n",
       "      <th>DateOfBirth</th>\n",
       "      <th>State</th>\n",
       "      <th>Contact</th>\n",
       "      <th>Segment</th>\n",
       "      <th>claim_id</th>\n",
       "      <th>incident_cause</th>\n",
       "      <th>claim_date</th>\n",
       "      <th>claim_area</th>\n",
       "      <th>police_report</th>\n",
       "      <th>claim_type</th>\n",
       "      <th>claim_amount</th>\n",
       "      <th>total_policy_claims</th>\n",
       "      <th>fraudulent</th>\n",
       "      <th>_merge</th>\n",
       "    </tr>\n",
       "  </thead>\n",
       "  <tbody>\n",
       "    <tr>\n",
       "      <th>0</th>\n",
       "      <td>21868593</td>\n",
       "      <td>Female</td>\n",
       "      <td>12-Jan-79</td>\n",
       "      <td>VT</td>\n",
       "      <td>789-916-8172</td>\n",
       "      <td>Platinum</td>\n",
       "      <td>54004764.0</td>\n",
       "      <td>Driver error</td>\n",
       "      <td>11/27/2017</td>\n",
       "      <td>Auto</td>\n",
       "      <td>No</td>\n",
       "      <td>Material only</td>\n",
       "      <td>$2980</td>\n",
       "      <td>1.0</td>\n",
       "      <td>No</td>\n",
       "      <td>both</td>\n",
       "    </tr>\n",
       "    <tr>\n",
       "      <th>1</th>\n",
       "      <td>75740424</td>\n",
       "      <td>Female</td>\n",
       "      <td>13-Jan-70</td>\n",
       "      <td>ME</td>\n",
       "      <td>265-543-1264</td>\n",
       "      <td>Silver</td>\n",
       "      <td>33985796.0</td>\n",
       "      <td>Crime</td>\n",
       "      <td>10/03/2018</td>\n",
       "      <td>Home</td>\n",
       "      <td>Unknown</td>\n",
       "      <td>Material only</td>\n",
       "      <td>$2980</td>\n",
       "      <td>3.0</td>\n",
       "      <td>No</td>\n",
       "      <td>both</td>\n",
       "    </tr>\n",
       "  </tbody>\n",
       "</table>\n",
       "</div>"
      ],
      "text/plain": [
       "    CUST_ID  gender DateOfBirth State       Contact   Segment    claim_id  \\\n",
       "0  21868593  Female   12-Jan-79    VT  789-916-8172  Platinum  54004764.0   \n",
       "1  75740424  Female   13-Jan-70    ME  265-543-1264    Silver  33985796.0   \n",
       "\n",
       "  incident_cause  claim_date claim_area police_report     claim_type  \\\n",
       "0   Driver error  11/27/2017       Auto            No  Material only   \n",
       "1          Crime  10/03/2018       Home       Unknown  Material only   \n",
       "\n",
       "  claim_amount  total_policy_claims fraudulent _merge  \n",
       "0        $2980                  1.0         No   both  \n",
       "1        $2980                  3.0         No   both  "
      ]
     },
     "execution_count": 3,
     "metadata": {},
     "output_type": "execute_result"
    }
   ],
   "source": [
    "insurance=pd.merge(left=cust,right=claim,left_on='CUST_ID',right_on='customer_id',how='left',indicator=True)\n",
    "insurance.drop(columns='customer_id',inplace=True)\n",
    "insurance.head(2)"
   ]
  },
  {
   "cell_type": "code",
   "execution_count": 4,
   "metadata": {},
   "outputs": [
    {
     "data": {
      "text/plain": [
       "CUST_ID                 0\n",
       "gender                  0\n",
       "DateOfBirth             0\n",
       "State                   0\n",
       "Contact                 0\n",
       "Segment                 0\n",
       "claim_id                7\n",
       "incident_cause          7\n",
       "claim_date              7\n",
       "claim_area              7\n",
       "police_report           7\n",
       "claim_type              7\n",
       "claim_amount           72\n",
       "total_policy_claims    17\n",
       "fraudulent              7\n",
       "_merge                  0\n",
       "dtype: int64"
      ]
     },
     "execution_count": 4,
     "metadata": {},
     "output_type": "execute_result"
    }
   ],
   "source": [
    "insurance.isnull().sum()"
   ]
  },
  {
   "cell_type": "code",
   "execution_count": 5,
   "metadata": {
    "scrolled": true
   },
   "outputs": [
    {
     "name": "stdout",
     "output_type": "stream",
     "text": [
      "<class 'pandas.core.frame.DataFrame'>\n",
      "Int64Index: 1092 entries, 0 to 1091\n",
      "Data columns (total 16 columns):\n",
      " #   Column               Non-Null Count  Dtype   \n",
      "---  ------               --------------  -----   \n",
      " 0   CUST_ID              1092 non-null   int64   \n",
      " 1   gender               1092 non-null   object  \n",
      " 2   DateOfBirth          1092 non-null   object  \n",
      " 3   State                1092 non-null   object  \n",
      " 4   Contact              1092 non-null   object  \n",
      " 5   Segment              1092 non-null   object  \n",
      " 6   claim_id             1085 non-null   float64 \n",
      " 7   incident_cause       1085 non-null   object  \n",
      " 8   claim_date           1085 non-null   object  \n",
      " 9   claim_area           1085 non-null   object  \n",
      " 10  police_report        1085 non-null   object  \n",
      " 11  claim_type           1085 non-null   object  \n",
      " 12  claim_amount         1020 non-null   object  \n",
      " 13  total_policy_claims  1075 non-null   float64 \n",
      " 14  fraudulent           1085 non-null   object  \n",
      " 15  _merge               1092 non-null   category\n",
      "dtypes: category(1), float64(2), int64(1), object(12)\n",
      "memory usage: 137.7+ KB\n"
     ]
    }
   ],
   "source": [
    "insurance.info()"
   ]
  },
  {
   "cell_type": "markdown",
   "metadata": {},
   "source": [
    "### 2. Perform a data audit for the datatypes and find out if there are any mismatch within the current datatypes of the columns and their business significance"
   ]
  },
  {
   "cell_type": "code",
   "execution_count": 6,
   "metadata": {},
   "outputs": [],
   "source": [
    "insurance['DateOfBirth']=pd.to_datetime(insurance.DateOfBirth,format='%d-%b-%y')\n",
    "insurance['claim_date']=pd.to_datetime(insurance.claim_date)"
   ]
  },
  {
   "cell_type": "code",
   "execution_count": 7,
   "metadata": {},
   "outputs": [
    {
     "name": "stderr",
     "output_type": "stream",
     "text": [
      "C:\\Users\\ACER\\anaconda3\\lib\\site-packages\\pandas\\core\\indexing.py:671: SettingWithCopyWarning: \n",
      "A value is trying to be set on a copy of a slice from a DataFrame\n",
      "\n",
      "See the caveats in the documentation: https://pandas.pydata.org/pandas-docs/stable/user_guide/indexing.html#returning-a-view-versus-a-copy\n",
      "  self._setitem_with_indexer(indexer, value)\n"
     ]
    }
   ],
   "source": [
    "insurance.DateOfBirth.loc[insurance.DateOfBirth.dt.year>2020]=insurance.DateOfBirth.loc[insurance.DateOfBirth.dt.year>2020] + pd.DateOffset(years=-100)"
   ]
  },
  {
   "cell_type": "code",
   "execution_count": 8,
   "metadata": {},
   "outputs": [],
   "source": [
    "#converting Cust_id and claim_id to object\n",
    "insurance[['CUST_ID','claim_id']]=insurance[['CUST_ID','claim_id']].applymap(str)"
   ]
  },
  {
   "cell_type": "code",
   "execution_count": 9,
   "metadata": {},
   "outputs": [],
   "source": [
    "#converting contact details to proper format\n",
    "insurance['Contact']=insurance['Contact'].str.replace('-','')"
   ]
  },
  {
   "cell_type": "markdown",
   "metadata": {},
   "source": [
    "### 3.Convert the column claim_amount to numeric. Use the appropriate modules/attributes to remove the $ sign"
   ]
  },
  {
   "cell_type": "code",
   "execution_count": 10,
   "metadata": {},
   "outputs": [],
   "source": [
    "insurance['claim_amount']=pd.to_numeric(insurance.claim_amount.str.replace('$',''))"
   ]
  },
  {
   "cell_type": "markdown",
   "metadata": {},
   "source": [
    "### 4. Of all the injury claims, some of them have gone unreported with the police. Create an alert flag (1,0) for all such claims"
   ]
  },
  {
   "cell_type": "code",
   "execution_count": 11,
   "metadata": {},
   "outputs": [],
   "source": [
    "insurance['Alert']=np.where((insurance.claim_type=='Injury only')&((insurance.police_report=='No')|(insurance.police_report=='Unknown') ),0,1)"
   ]
  },
  {
   "cell_type": "code",
   "execution_count": 12,
   "metadata": {},
   "outputs": [
    {
     "data": {
      "text/html": [
       "<div>\n",
       "<style scoped>\n",
       "    .dataframe tbody tr th:only-of-type {\n",
       "        vertical-align: middle;\n",
       "    }\n",
       "\n",
       "    .dataframe tbody tr th {\n",
       "        vertical-align: top;\n",
       "    }\n",
       "\n",
       "    .dataframe thead th {\n",
       "        text-align: right;\n",
       "    }\n",
       "</style>\n",
       "<table border=\"1\" class=\"dataframe\">\n",
       "  <thead>\n",
       "    <tr style=\"text-align: right;\">\n",
       "      <th></th>\n",
       "      <th>CUST_ID</th>\n",
       "      <th>gender</th>\n",
       "      <th>DateOfBirth</th>\n",
       "      <th>State</th>\n",
       "      <th>Contact</th>\n",
       "      <th>Segment</th>\n",
       "      <th>claim_id</th>\n",
       "      <th>incident_cause</th>\n",
       "      <th>claim_date</th>\n",
       "      <th>claim_area</th>\n",
       "      <th>police_report</th>\n",
       "      <th>claim_type</th>\n",
       "      <th>claim_amount</th>\n",
       "      <th>total_policy_claims</th>\n",
       "      <th>fraudulent</th>\n",
       "      <th>_merge</th>\n",
       "      <th>Alert</th>\n",
       "    </tr>\n",
       "  </thead>\n",
       "  <tbody>\n",
       "    <tr>\n",
       "      <th>0</th>\n",
       "      <td>21868593</td>\n",
       "      <td>Female</td>\n",
       "      <td>1979-01-12</td>\n",
       "      <td>VT</td>\n",
       "      <td>7899168172</td>\n",
       "      <td>Platinum</td>\n",
       "      <td>54004764.0</td>\n",
       "      <td>Driver error</td>\n",
       "      <td>2017-11-27</td>\n",
       "      <td>Auto</td>\n",
       "      <td>No</td>\n",
       "      <td>Material only</td>\n",
       "      <td>2980.0</td>\n",
       "      <td>1.0</td>\n",
       "      <td>No</td>\n",
       "      <td>both</td>\n",
       "      <td>1</td>\n",
       "    </tr>\n",
       "    <tr>\n",
       "      <th>1</th>\n",
       "      <td>75740424</td>\n",
       "      <td>Female</td>\n",
       "      <td>1970-01-13</td>\n",
       "      <td>ME</td>\n",
       "      <td>2655431264</td>\n",
       "      <td>Silver</td>\n",
       "      <td>33985796.0</td>\n",
       "      <td>Crime</td>\n",
       "      <td>2018-10-03</td>\n",
       "      <td>Home</td>\n",
       "      <td>Unknown</td>\n",
       "      <td>Material only</td>\n",
       "      <td>2980.0</td>\n",
       "      <td>3.0</td>\n",
       "      <td>No</td>\n",
       "      <td>both</td>\n",
       "      <td>1</td>\n",
       "    </tr>\n",
       "  </tbody>\n",
       "</table>\n",
       "</div>"
      ],
      "text/plain": [
       "    CUST_ID  gender DateOfBirth State     Contact   Segment    claim_id  \\\n",
       "0  21868593  Female  1979-01-12    VT  7899168172  Platinum  54004764.0   \n",
       "1  75740424  Female  1970-01-13    ME  2655431264    Silver  33985796.0   \n",
       "\n",
       "  incident_cause claim_date claim_area police_report     claim_type  \\\n",
       "0   Driver error 2017-11-27       Auto            No  Material only   \n",
       "1          Crime 2018-10-03       Home       Unknown  Material only   \n",
       "\n",
       "   claim_amount  total_policy_claims fraudulent _merge  Alert  \n",
       "0        2980.0                  1.0         No   both      1  \n",
       "1        2980.0                  3.0         No   both      1  "
      ]
     },
     "execution_count": 12,
     "metadata": {},
     "output_type": "execute_result"
    }
   ],
   "source": [
    "insurance.head(2)"
   ]
  },
  {
   "cell_type": "markdown",
   "metadata": {},
   "source": [
    "### 5. One customer can claim for insurance more than once and in each claim, multiple categories of claims can be involved. However, customer ID should remain unique.Retain the most recent observation and delete any duplicated records inthe data based on the customer ID column"
   ]
  },
  {
   "cell_type": "code",
   "execution_count": 13,
   "metadata": {},
   "outputs": [
    {
     "data": {
      "text/plain": [
       "3      30308357\n",
       "5      47830476\n",
       "7      19269962\n",
       "9      21831191\n",
       "625    84147585\n",
       "627    85357756\n",
       "629    53539195\n",
       "Name: CUST_ID, dtype: object"
      ]
     },
     "execution_count": 13,
     "metadata": {},
     "output_type": "execute_result"
    }
   ],
   "source": [
    "insurance.CUST_ID.loc[insurance.CUST_ID.duplicated()]"
   ]
  },
  {
   "cell_type": "code",
   "execution_count": 14,
   "metadata": {},
   "outputs": [],
   "source": [
    "insurance=insurance.groupby(by='CUST_ID').first().reset_index()"
   ]
  },
  {
   "cell_type": "markdown",
   "metadata": {},
   "source": [
    "### 6.Check for missing values and impute the missing values with an appropriate value. (mean for continuous and mode for categorical)"
   ]
  },
  {
   "cell_type": "code",
   "execution_count": 15,
   "metadata": {},
   "outputs": [
    {
     "data": {
      "text/plain": [
       "CUST_ID                 0\n",
       "gender                  0\n",
       "DateOfBirth             0\n",
       "State                   0\n",
       "Contact                 0\n",
       "Segment                 0\n",
       "claim_id                0\n",
       "incident_cause          7\n",
       "claim_date              7\n",
       "claim_area              7\n",
       "police_report           7\n",
       "claim_type              7\n",
       "claim_amount           72\n",
       "total_policy_claims    17\n",
       "fraudulent              7\n",
       "_merge                  0\n",
       "Alert                   0\n",
       "dtype: int64"
      ]
     },
     "execution_count": 15,
     "metadata": {},
     "output_type": "execute_result"
    }
   ],
   "source": [
    "insurance.isnull().sum()"
   ]
  },
  {
   "cell_type": "code",
   "execution_count": 16,
   "metadata": {},
   "outputs": [],
   "source": [
    "insurance[['claim_amount','total_policy_claims']]=insurance.select_dtypes(['float','int64']).fillna(insurance.select_dtypes(['float','int64']).mean().round(0))"
   ]
  },
  {
   "cell_type": "code",
   "execution_count": 17,
   "metadata": {},
   "outputs": [],
   "source": [
    "cat=insurance.select_dtypes(['object']).columns"
   ]
  },
  {
   "cell_type": "code",
   "execution_count": 18,
   "metadata": {
    "scrolled": true
   },
   "outputs": [
    {
     "data": {
      "text/html": [
       "<div>\n",
       "<style scoped>\n",
       "    .dataframe tbody tr th:only-of-type {\n",
       "        vertical-align: middle;\n",
       "    }\n",
       "\n",
       "    .dataframe tbody tr th {\n",
       "        vertical-align: top;\n",
       "    }\n",
       "\n",
       "    .dataframe thead th {\n",
       "        text-align: right;\n",
       "    }\n",
       "</style>\n",
       "<table border=\"1\" class=\"dataframe\">\n",
       "  <thead>\n",
       "    <tr style=\"text-align: right;\">\n",
       "      <th></th>\n",
       "      <th>CUST_ID</th>\n",
       "      <th>gender</th>\n",
       "      <th>DateOfBirth</th>\n",
       "      <th>State</th>\n",
       "      <th>Contact</th>\n",
       "      <th>Segment</th>\n",
       "      <th>claim_id</th>\n",
       "      <th>incident_cause</th>\n",
       "      <th>claim_date</th>\n",
       "      <th>claim_area</th>\n",
       "      <th>police_report</th>\n",
       "      <th>claim_type</th>\n",
       "      <th>claim_amount</th>\n",
       "      <th>total_policy_claims</th>\n",
       "      <th>fraudulent</th>\n",
       "      <th>_merge</th>\n",
       "      <th>Alert</th>\n",
       "    </tr>\n",
       "  </thead>\n",
       "  <tbody>\n",
       "    <tr>\n",
       "      <th>0</th>\n",
       "      <td>10149231</td>\n",
       "      <td>Female</td>\n",
       "      <td>1992-03-22</td>\n",
       "      <td>FL</td>\n",
       "      <td>2919423485</td>\n",
       "      <td>Platinum</td>\n",
       "      <td>77526829.0</td>\n",
       "      <td>Other causes</td>\n",
       "      <td>2018-04-24</td>\n",
       "      <td>Auto</td>\n",
       "      <td>Unknown</td>\n",
       "      <td>Material and injury</td>\n",
       "      <td>34780.0</td>\n",
       "      <td>3.0</td>\n",
       "      <td>No</td>\n",
       "      <td>both</td>\n",
       "      <td>1</td>\n",
       "    </tr>\n",
       "    <tr>\n",
       "      <th>1</th>\n",
       "      <td>10198314</td>\n",
       "      <td>Female</td>\n",
       "      <td>1980-11-10</td>\n",
       "      <td>WI</td>\n",
       "      <td>1768611936</td>\n",
       "      <td>Platinum</td>\n",
       "      <td>50022306.0</td>\n",
       "      <td>Other causes</td>\n",
       "      <td>2018-05-01</td>\n",
       "      <td>Auto</td>\n",
       "      <td>Unknown</td>\n",
       "      <td>Injury only</td>\n",
       "      <td>28658.0</td>\n",
       "      <td>1.0</td>\n",
       "      <td>Yes</td>\n",
       "      <td>both</td>\n",
       "      <td>0</td>\n",
       "    </tr>\n",
       "  </tbody>\n",
       "</table>\n",
       "</div>"
      ],
      "text/plain": [
       "    CUST_ID  gender DateOfBirth State     Contact   Segment    claim_id  \\\n",
       "0  10149231  Female  1992-03-22    FL  2919423485  Platinum  77526829.0   \n",
       "1  10198314  Female  1980-11-10    WI  1768611936  Platinum  50022306.0   \n",
       "\n",
       "  incident_cause claim_date claim_area police_report           claim_type  \\\n",
       "0   Other causes 2018-04-24       Auto       Unknown  Material and injury   \n",
       "1   Other causes 2018-05-01       Auto       Unknown          Injury only   \n",
       "\n",
       "   claim_amount  total_policy_claims fraudulent _merge  Alert  \n",
       "0       34780.0                  3.0         No   both      1  \n",
       "1       28658.0                  1.0        Yes   both      0  "
      ]
     },
     "execution_count": 18,
     "metadata": {},
     "output_type": "execute_result"
    }
   ],
   "source": [
    "for i in cat:\n",
    "    insurance[i]=insurance[i].fillna(insurance[i].mode()[0])\n",
    "insurance.head(2)"
   ]
  },
  {
   "cell_type": "markdown",
   "metadata": {},
   "source": [
    "### 7. Calculate the age of customers in years. Based on the age, categorize the customers according to the below criteria Children < 18 Youth 18-30 Adult 30-60 Senior > 60"
   ]
  },
  {
   "cell_type": "code",
   "execution_count": 19,
   "metadata": {},
   "outputs": [],
   "source": [
    "today=datetime.datetime.today().date()\n",
    "insurance['Age']=insurance.claim_date.dt.year-insurance.DateOfBirth.dt.year"
   ]
  },
  {
   "cell_type": "code",
   "execution_count": 20,
   "metadata": {},
   "outputs": [],
   "source": [
    "insurance['Criteria']=pd.cut(insurance['Age'],bins=[1,17,30,60,120],labels=['Children','Youth','Adult','Senior'],include_lowest=False)"
   ]
  },
  {
   "cell_type": "code",
   "execution_count": 21,
   "metadata": {},
   "outputs": [],
   "source": [
    "#filling the missing age and criteria\n",
    "insurance['Age']=insurance['Age'].fillna(round(insurance['Age'].mean(),0))\n",
    "insurance['Criteria']=insurance['Criteria'].fillna('Adult')"
   ]
  },
  {
   "cell_type": "markdown",
   "metadata": {},
   "source": [
    "### 8. What is the average amount claimed by the customers from various segments?"
   ]
  },
  {
   "cell_type": "code",
   "execution_count": 22,
   "metadata": {},
   "outputs": [
    {
     "data": {
      "text/plain": [
       "Segment\n",
       "Gold        12755.680108\n",
       "Platinum    12370.114011\n",
       "Silver      12271.118911\n",
       "Name: claim_amount, dtype: float64"
      ]
     },
     "execution_count": 22,
     "metadata": {},
     "output_type": "execute_result"
    }
   ],
   "source": [
    "insurance.groupby(by='Segment').claim_amount.mean()"
   ]
  },
  {
   "cell_type": "markdown",
   "metadata": {},
   "source": [
    "### 9.What is the total claim amount based on incident cause for all the claims that have been done at least 20 days prior to 1st of October, 2018."
   ]
  },
  {
   "cell_type": "code",
   "execution_count": 23,
   "metadata": {},
   "outputs": [
    {
     "data": {
      "text/html": [
       "<div>\n",
       "<style scoped>\n",
       "    .dataframe tbody tr th:only-of-type {\n",
       "        vertical-align: middle;\n",
       "    }\n",
       "\n",
       "    .dataframe tbody tr th {\n",
       "        vertical-align: top;\n",
       "    }\n",
       "\n",
       "    .dataframe thead th {\n",
       "        text-align: right;\n",
       "    }\n",
       "</style>\n",
       "<table border=\"1\" class=\"dataframe\">\n",
       "  <thead>\n",
       "    <tr style=\"text-align: right;\">\n",
       "      <th></th>\n",
       "      <th>incident_cause</th>\n",
       "      <th>claim_amount</th>\n",
       "    </tr>\n",
       "  </thead>\n",
       "  <tbody>\n",
       "    <tr>\n",
       "      <th>0</th>\n",
       "      <td>Crime</td>\n",
       "      <td>724460.0</td>\n",
       "    </tr>\n",
       "    <tr>\n",
       "      <th>1</th>\n",
       "      <td>Driver error</td>\n",
       "      <td>3264280.0</td>\n",
       "    </tr>\n",
       "    <tr>\n",
       "      <th>2</th>\n",
       "      <td>Natural causes</td>\n",
       "      <td>1312702.0</td>\n",
       "    </tr>\n",
       "    <tr>\n",
       "      <th>3</th>\n",
       "      <td>Other causes</td>\n",
       "      <td>3725029.0</td>\n",
       "    </tr>\n",
       "    <tr>\n",
       "      <th>4</th>\n",
       "      <td>Other driver error</td>\n",
       "      <td>3318800.0</td>\n",
       "    </tr>\n",
       "  </tbody>\n",
       "</table>\n",
       "</div>"
      ],
      "text/plain": [
       "       incident_cause  claim_amount\n",
       "0               Crime      724460.0\n",
       "1        Driver error     3264280.0\n",
       "2      Natural causes     1312702.0\n",
       "3        Other causes     3725029.0\n",
       "4  Other driver error     3318800.0"
      ]
     },
     "execution_count": 23,
     "metadata": {},
     "output_type": "execute_result"
    }
   ],
   "source": [
    "insurance_2=insurance.loc[insurance.claim_date<='2018-09-10']\n",
    "insurance_2.groupby(by='incident_cause').claim_amount.sum().round(0).reset_index()"
   ]
  },
  {
   "cell_type": "markdown",
   "metadata": {},
   "source": [
    "### 10. How many adults from TX, DE and AK claimed insurance for driver related issues and causes?"
   ]
  },
  {
   "cell_type": "code",
   "execution_count": 24,
   "metadata": {},
   "outputs": [
    {
     "data": {
      "text/plain": [
       "array(['Other causes', 'Natural causes', 'Other driver error', 'Crime',\n",
       "       'Driver error'], dtype=object)"
      ]
     },
     "execution_count": 24,
     "metadata": {},
     "output_type": "execute_result"
    }
   ],
   "source": [
    "insurance.incident_cause.unique()"
   ]
  },
  {
   "cell_type": "code",
   "execution_count": 25,
   "metadata": {
    "scrolled": true
   },
   "outputs": [
    {
     "data": {
      "text/plain": [
       "State\n",
       "AK    10\n",
       "DE    15\n",
       "TX    10\n",
       "Name: CUST_ID, dtype: int64"
      ]
     },
     "execution_count": 25,
     "metadata": {},
     "output_type": "execute_result"
    }
   ],
   "source": [
    "insurance.loc[((insurance.State=='AK')|(insurance.State=='DE')|(insurance.State=='TX')) &\n",
    "             ( (insurance.incident_cause=='Other driver error')|(insurance.incident_cause=='Driver error'))].groupby(by='State').CUST_ID.count()"
   ]
  },
  {
   "cell_type": "markdown",
   "metadata": {},
   "source": [
    "### 11.Draw a pie chart between the aggregated value of claim amount based on gender and segment. Represent the claim amount as a percentage on the pie chart."
   ]
  },
  {
   "cell_type": "code",
   "execution_count": 26,
   "metadata": {},
   "outputs": [
    {
     "data": {
      "text/html": [
       "<div>\n",
       "<style scoped>\n",
       "    .dataframe tbody tr th:only-of-type {\n",
       "        vertical-align: middle;\n",
       "    }\n",
       "\n",
       "    .dataframe tbody tr th {\n",
       "        vertical-align: top;\n",
       "    }\n",
       "\n",
       "    .dataframe thead th {\n",
       "        text-align: right;\n",
       "    }\n",
       "</style>\n",
       "<table border=\"1\" class=\"dataframe\">\n",
       "  <thead>\n",
       "    <tr style=\"text-align: right;\">\n",
       "      <th>Segment</th>\n",
       "      <th>Gold</th>\n",
       "      <th>Platinum</th>\n",
       "      <th>Silver</th>\n",
       "    </tr>\n",
       "    <tr>\n",
       "      <th>gender</th>\n",
       "      <th></th>\n",
       "      <th></th>\n",
       "      <th></th>\n",
       "    </tr>\n",
       "  </thead>\n",
       "  <tbody>\n",
       "    <tr>\n",
       "      <th>Female</th>\n",
       "      <td>2122229.0</td>\n",
       "      <td>2381970.0</td>\n",
       "      <td>1935962.0</td>\n",
       "    </tr>\n",
       "    <tr>\n",
       "      <th>Male</th>\n",
       "      <td>2622884.0</td>\n",
       "      <td>2120751.5</td>\n",
       "      <td>2346658.5</td>\n",
       "    </tr>\n",
       "  </tbody>\n",
       "</table>\n",
       "</div>"
      ],
      "text/plain": [
       "Segment       Gold   Platinum     Silver\n",
       "gender                                  \n",
       "Female   2122229.0  2381970.0  1935962.0\n",
       "Male     2622884.0  2120751.5  2346658.5"
      ]
     },
     "execution_count": 26,
     "metadata": {},
     "output_type": "execute_result"
    }
   ],
   "source": [
    "k=insurance.pivot_table(index='gender',columns='Segment',values='claim_amount',aggfunc='sum')\n",
    "k"
   ]
  },
  {
   "cell_type": "code",
   "execution_count": 27,
   "metadata": {
    "scrolled": true
   },
   "outputs": [
    {
     "data": {
      "image/png": "[encoded data removed]",
      "text/plain": [
       "<Figure size 720x720 with 4 Axes>"
      ]
     },
     "metadata": {
      "needs_background": "light"
     },
     "output_type": "display_data"
    }
   ],
   "source": [
    "k.plot(kind='pie',autopct='%1.0f%%',subplots=True,labels=['Male','Female'],fontsize=10,layout=(2,2),figsize=(10,10))\n",
    "plt.show()"
   ]
  },
  {
   "cell_type": "markdown",
   "metadata": {},
   "source": [
    "### 12.Among males and females, which gender had claimed the most for any type of driver related issues? E.g. This metric can be compared using a bar chart"
   ]
  },
  {
   "cell_type": "code",
   "execution_count": 28,
   "metadata": {},
   "outputs": [
    {
     "data": {
      "image/png": "[encoded data removed]",
      "text/plain": [
       "<Figure size 432x288 with 1 Axes>"
      ]
     },
     "metadata": {
      "needs_background": "light"
     },
     "output_type": "display_data"
    }
   ],
   "source": [
    "insurance.loc[insurance.incident_cause.str.lower().str.contains('driver')].groupby(by='gender').incident_cause.count().plot(kind='bar')\n",
    "plt.title('Comparing claims among genders for any driver related issues')\n",
    "plt.xlabel('Gender')\n",
    "plt.ylabel('Frequency')\n",
    "plt.show()"
   ]
  },
  {
   "cell_type": "markdown",
   "metadata": {},
   "source": [
    "### 13.Which age group had the maximum fraudulent policy claims? Visualize it on a bar chart."
   ]
  },
  {
   "cell_type": "code",
   "execution_count": 29,
   "metadata": {},
   "outputs": [
    {
     "data": {
      "image/png": "[encoded data removed]",
      "text/plain": [
       "<Figure size 432x288 with 1 Axes>"
      ]
     },
     "metadata": {
      "needs_background": "light"
     },
     "output_type": "display_data"
    }
   ],
   "source": [
    "insurance.loc[insurance.fraudulent=='Yes'].groupby(by='Criteria').fraudulent.count().plot(kind='bar')\n",
    "plt.title('Count of fraudulent policy claims')\n",
    "plt.xlabel('Age_Criteria')\n",
    "plt.ylabel('Frequency')\n",
    "plt.show()"
   ]
  },
  {
   "cell_type": "markdown",
   "metadata": {},
   "source": [
    "### 14. Visualize the monthly trend of the total amount that has been claimed by the customers. Ensure that on the “month” axis, the month is in a chronological order not alphabetical order"
   ]
  },
  {
   "cell_type": "code",
   "execution_count": 30,
   "metadata": {},
   "outputs": [],
   "source": [
    "insurance_3=insurance.set_index('claim_date')"
   ]
  },
  {
   "cell_type": "code",
   "execution_count": 31,
   "metadata": {},
   "outputs": [
    {
     "data": {
      "image/png": "[encoded data removed]",
      "text/plain": [
       "<Figure size 432x288 with 1 Axes>"
      ]
     },
     "metadata": {
      "needs_background": "light"
     },
     "output_type": "display_data"
    }
   ],
   "source": [
    "insurance_3.resample('M').claim_amount.sum().round(0).plot(kind='bar')\n",
    "plt.title('Monthly Trend')\n",
    "plt.xlabel('Month_Year')\n",
    "plt.ylabel('Claim amount')\n",
    "plt.show()"
   ]
  },
  {
   "cell_type": "markdown",
   "metadata": {},
   "source": [
    "### 15. What is the average claim amount for gender and age categories and suitably represent the above using a facetted bar chart, one facet that represents fraudulent claims and the other for non-fraudulent claims"
   ]
  },
  {
   "cell_type": "code",
   "execution_count": 32,
   "metadata": {},
   "outputs": [
    {
     "data": {
      "image/png": "[encoded data removed]",
      "text/plain": [
       "<Figure size 432x288 with 1 Axes>"
      ]
     },
     "metadata": {
      "needs_background": "light"
     },
     "output_type": "display_data"
    }
   ],
   "source": [
    "avg_claim=insurance.groupby(by=['fraudulent','gender','Criteria']).claim_amount.mean()\n",
    "avg_claim.unstack(level=0).plot(kind='bar')\n",
    "plt.xlabel('Avg_amount')\n",
    "plt.ylabel('Gender_Criteria')\n",
    "plt.show()"
   ]
  },
  {
   "cell_type": "markdown",
   "metadata": {},
   "source": [
    "### 16.Is there any similarity in the amount claimed by males and females?"
   ]
  },
  {
   "cell_type": "raw",
   "metadata": {},
   "source": [
    "Ho: There is no difference in the amount claimed by males and females\n",
    "Ha: There is a significant difference in the amount claimed by males and females\n",
    "CI=95% ,P-vlaue=0.05\n",
    "Test: two sample ind t-test or ANOVA"
   ]
  },
  {
   "cell_type": "code",
   "execution_count": 40,
   "metadata": {},
   "outputs": [
    {
     "name": "stdout",
     "output_type": "stream",
     "text": [
      "Avg amount claimed by males: 12821.51 | Avg amount claimed by females: 12105.57\n"
     ]
    }
   ],
   "source": [
    "male=insurance.loc[insurance.gender=='Male','claim_amount']\n",
    "female=insurance.loc[insurance.gender=='Female','claim_amount']\n",
    "print('Avg amount claimed by males:',round(male.mean(),2),'|','Avg amount claimed by females:',round(female.mean(),2))"
   ]
  },
  {
   "cell_type": "code",
   "execution_count": 43,
   "metadata": {},
   "outputs": [
    {
     "name": "stdout",
     "output_type": "stream",
     "text": [
      "P_value: 0.37645173212362204\n"
     ]
    }
   ],
   "source": [
    "#two sample ind t-test\n",
    "print('P_value:',stats.ttest_ind( male, female)[1])"
   ]
  },
  {
   "cell_type": "code",
   "execution_count": 45,
   "metadata": {},
   "outputs": [
    {
     "name": "stdout",
     "output_type": "stream",
     "text": [
      "P_value: 0.37645173212347394\n"
     ]
    }
   ],
   "source": [
    "# ANOVA\n",
    "print('P_value:',stats.f_oneway( male, female)[1])"
   ]
  },
  {
   "cell_type": "markdown",
   "metadata": {},
   "source": [
    "### Conclusion:\n",
    "P_value is greater than 0.05.So,we failed to reject null hypothesis\n",
    "\n",
    "Hence there is no difference in the amount claimed by males and females"
   ]
  },
  {
   "cell_type": "markdown",
   "metadata": {},
   "source": [
    "### 17. Is there any relationship between age category and segment?¶"
   ]
  },
  {
   "cell_type": "raw",
   "metadata": {},
   "source": [
    "Ho: No relation between age category and Segment\n",
    "Ha: There is a relation between age category and Segment\n",
    "CI=95% ,P-vlaue=0.05\n",
    "Test: chi square test"
   ]
  },
  {
   "cell_type": "code",
   "execution_count": 48,
   "metadata": {},
   "outputs": [
    {
     "name": "stdout",
     "output_type": "stream",
     "text": [
      "P_vales: 0.716359436476942\n"
     ]
    }
   ],
   "source": [
    "print('P_vales:',stats.chi2_contingency(pd.crosstab(insurance.Segment,insurance.Criteria))[1])"
   ]
  },
  {
   "cell_type": "markdown",
   "metadata": {},
   "source": [
    "### Conclusion:\n",
    "P_value is greater than 0.05.So,we failed to reject null hypothesis\n",
    "\n",
    "Hence there is no No relation between age category and Segment"
   ]
  },
  {
   "cell_type": "markdown",
   "metadata": {},
   "source": [
    "### 18. The current year has shown a significant rise in claim amounts as compared to 2016-17 fiscal average which was $10,000."
   ]
  },
  {
   "cell_type": "raw",
   "metadata": {},
   "source": [
    "Ho: Mean=10000\n",
    "Ha: Mean>10000\n",
    "CI=95% ,P-vlaue=0.05\n",
    "Test: one sample t- test"
   ]
  },
  {
   "cell_type": "code",
   "execution_count": 51,
   "metadata": {},
   "outputs": [
    {
     "data": {
      "text/plain": [
       "12470.465437788018"
      ]
     },
     "execution_count": 51,
     "metadata": {},
     "output_type": "execute_result"
    }
   ],
   "source": [
    "insurance.claim_amount.mean()"
   ]
  },
  {
   "cell_type": "code",
   "execution_count": 53,
   "metadata": {},
   "outputs": [
    {
     "name": "stdout",
     "output_type": "stream",
     "text": [
      "P_value: 1.4028863854355503e-09\n"
     ]
    }
   ],
   "source": [
    "print('P_value:',stats.ttest_1samp(insurance.claim_amount,10000)[1])"
   ]
  },
  {
   "cell_type": "markdown",
   "metadata": {},
   "source": [
    "### Conclusion:\n",
    "P_value is less than 0.05.So,we reject null hypothesis\n",
    "\n",
    "Hence there is a significant rise in claim amounts as compared to 2016-17 hypothesised value"
   ]
  },
  {
   "cell_type": "markdown",
   "metadata": {},
   "source": [
    "### 19. Is there any difference between age groups and insurance claims?"
   ]
  },
  {
   "cell_type": "raw",
   "metadata": {},
   "source": [
    "Ho: Both age group and insurance claims are similar\n",
    "Ha: Both age group and insurance claims are different\n",
    "CI=95% ,P-vlaue=0.05\n",
    "Test: ANOVA"
   ]
  },
  {
   "cell_type": "code",
   "execution_count": 55,
   "metadata": {},
   "outputs": [
    {
     "data": {
      "text/plain": [
       "[Youth, Adult]\n",
       "Categories (2, object): [Youth < Adult]"
      ]
     },
     "execution_count": 55,
     "metadata": {},
     "output_type": "execute_result"
    }
   ],
   "source": [
    "insurance.Criteria.unique()"
   ]
  },
  {
   "cell_type": "code",
   "execution_count": 59,
   "metadata": {},
   "outputs": [
    {
     "name": "stdout",
     "output_type": "stream",
     "text": [
      "Mean of youth: 1.62 | Mean of Adult: 1.57\n",
      "Var in youth: 1.56 | Var of Adult: 1.15\n"
     ]
    }
   ],
   "source": [
    "youth=insurance.loc[insurance.Criteria=='Youth','total_policy_claims']\n",
    "adult=insurance.loc[insurance.Criteria=='Adult','total_policy_claims']\n",
    "print('Mean of youth:',round(youth.mean(),2),'|','Mean of Adult:',round(adult.mean(),2))\n",
    "print('Var in youth:',round(youth.var(),2),'|','Var of Adult:',round(adult.var(),2))"
   ]
  },
  {
   "cell_type": "code",
   "execution_count": 60,
   "metadata": {},
   "outputs": [
    {
     "name": "stdout",
     "output_type": "stream",
     "text": [
      "P_value: 0.51075546045695\n"
     ]
    }
   ],
   "source": [
    "print('P_value:',stats.f_oneway( youth,adult )[1])"
   ]
  },
  {
   "cell_type": "markdown",
   "metadata": {},
   "source": [
    "### Conclusion:\n",
    "P_value is greater than 0.05.So,we failed to reject null hypothesis\n",
    "\n",
    "Hence both age group and insurance claims are similar"
   ]
  },
  {
   "cell_type": "markdown",
   "metadata": {},
   "source": [
    "### 20. Is there any relationship between total number of policy claims and the claimed amount?"
   ]
  },
  {
   "cell_type": "code",
   "execution_count": null,
   "metadata": {},
   "outputs": [],
   "source": [
    "Ho: No relationship\n",
    "Ha: Realted variables\n",
    "CI=95% ,P-vlaue=0.05\n",
    "Test: pearson correlation"
   ]
  },
  {
   "cell_type": "code",
   "execution_count": 61,
   "metadata": {},
   "outputs": [
    {
     "data": {
      "text/html": [
       "<div>\n",
       "<style scoped>\n",
       "    .dataframe tbody tr th:only-of-type {\n",
       "        vertical-align: middle;\n",
       "    }\n",
       "\n",
       "    .dataframe tbody tr th {\n",
       "        vertical-align: top;\n",
       "    }\n",
       "\n",
       "    .dataframe thead th {\n",
       "        text-align: right;\n",
       "    }\n",
       "</style>\n",
       "<table border=\"1\" class=\"dataframe\">\n",
       "  <thead>\n",
       "    <tr style=\"text-align: right;\">\n",
       "      <th></th>\n",
       "      <th>CUST_ID</th>\n",
       "      <th>gender</th>\n",
       "      <th>DateOfBirth</th>\n",
       "      <th>State</th>\n",
       "      <th>Contact</th>\n",
       "      <th>Segment</th>\n",
       "      <th>claim_id</th>\n",
       "      <th>incident_cause</th>\n",
       "      <th>claim_date</th>\n",
       "      <th>claim_area</th>\n",
       "      <th>police_report</th>\n",
       "      <th>claim_type</th>\n",
       "      <th>claim_amount</th>\n",
       "      <th>total_policy_claims</th>\n",
       "      <th>fraudulent</th>\n",
       "      <th>_merge</th>\n",
       "      <th>Alert</th>\n",
       "      <th>Age</th>\n",
       "      <th>Criteria</th>\n",
       "    </tr>\n",
       "  </thead>\n",
       "  <tbody>\n",
       "    <tr>\n",
       "      <th>0</th>\n",
       "      <td>10149231</td>\n",
       "      <td>Female</td>\n",
       "      <td>1992-03-22</td>\n",
       "      <td>FL</td>\n",
       "      <td>2919423485</td>\n",
       "      <td>Platinum</td>\n",
       "      <td>77526829.0</td>\n",
       "      <td>Other causes</td>\n",
       "      <td>2018-04-24</td>\n",
       "      <td>Auto</td>\n",
       "      <td>Unknown</td>\n",
       "      <td>Material and injury</td>\n",
       "      <td>34780.0</td>\n",
       "      <td>3.0</td>\n",
       "      <td>No</td>\n",
       "      <td>both</td>\n",
       "      <td>1</td>\n",
       "      <td>26.0</td>\n",
       "      <td>Youth</td>\n",
       "    </tr>\n",
       "    <tr>\n",
       "      <th>1</th>\n",
       "      <td>10198314</td>\n",
       "      <td>Female</td>\n",
       "      <td>1980-11-10</td>\n",
       "      <td>WI</td>\n",
       "      <td>1768611936</td>\n",
       "      <td>Platinum</td>\n",
       "      <td>50022306.0</td>\n",
       "      <td>Other causes</td>\n",
       "      <td>2018-05-01</td>\n",
       "      <td>Auto</td>\n",
       "      <td>Unknown</td>\n",
       "      <td>Injury only</td>\n",
       "      <td>28658.0</td>\n",
       "      <td>1.0</td>\n",
       "      <td>Yes</td>\n",
       "      <td>both</td>\n",
       "      <td>0</td>\n",
       "      <td>38.0</td>\n",
       "      <td>Adult</td>\n",
       "    </tr>\n",
       "  </tbody>\n",
       "</table>\n",
       "</div>"
      ],
      "text/plain": [
       "    CUST_ID  gender DateOfBirth State     Contact   Segment    claim_id  \\\n",
       "0  10149231  Female  1992-03-22    FL  2919423485  Platinum  77526829.0   \n",
       "1  10198314  Female  1980-11-10    WI  1768611936  Platinum  50022306.0   \n",
       "\n",
       "  incident_cause claim_date claim_area police_report           claim_type  \\\n",
       "0   Other causes 2018-04-24       Auto       Unknown  Material and injury   \n",
       "1   Other causes 2018-05-01       Auto       Unknown          Injury only   \n",
       "\n",
       "   claim_amount  total_policy_claims fraudulent _merge  Alert   Age Criteria  \n",
       "0       34780.0                  3.0         No   both      1  26.0    Youth  \n",
       "1       28658.0                  1.0        Yes   both      0  38.0    Adult  "
      ]
     },
     "execution_count": 61,
     "metadata": {},
     "output_type": "execute_result"
    }
   ],
   "source": [
    "insurance.head(2)"
   ]
  },
  {
   "cell_type": "code",
   "execution_count": 62,
   "metadata": {},
   "outputs": [
    {
     "data": {
      "text/plain": [
       "(-0.013898127368510491, 0.6474629691338404)"
      ]
     },
     "execution_count": 62,
     "metadata": {},
     "output_type": "execute_result"
    }
   ],
   "source": [
    "stats.pearsonr(insurance.total_policy_claims,insurance.claim_amount)"
   ]
  },
  {
   "cell_type": "markdown",
   "metadata": {},
   "source": [
    "### Conclusion:\n",
    "Both the variables are highly corelated"
   ]
  },
  {
   "cell_type": "code",
   "execution_count": null,
   "metadata": {},
   "outputs": [],
   "source": []
  }
 ],
 "metadata": {
  "kernelspec": {
   "display_name": "Python 3",
   "language": "python",
   "name": "python3"
  },
  "language_info": {
   "codemirror_mode": {
    "name": "ipython",
    "version": 3
   },
   "file_extension": ".py",
   "mimetype": "text/x-python",
   "name": "python",
   "nbconvert_exporter": "python",
   "pygments_lexer": "ipython3",
   "version": "3.7.6"
  }
 },
 "nbformat": 4,
 "nbformat_minor": 4
}
